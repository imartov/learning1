{
 "cells": [
  {
   "attachments": {},
   "cell_type": "markdown",
   "metadata": {},
   "source": [
    "# ENVIRONMENT VARIABLES\n",
    "\n",
    "## Переменные окружения в рамках запущенной сессии командного интерпретатора\n",
    "\n",
    "Переменные окружения в рамках запущенной сессии командного интерпретатора означают, что доступ к заданным в командном консоле перменным окружения можно получить только из запущенной сессии данного командного консоля.  \n",
    "Если нам нужно получить доступ к переменной коружения из другого окна, ничего неи получится. \n",
    "\n",
    "Для того, чтобы создать переменную окружения, нужно, находясь в терминале в дериктории проекта прописать:"
   ]
  },
  {
   "cell_type": "code",
   "execution_count": null,
   "metadata": {},
   "outputs": [],
   "source": [
    "set VAR_NAME=var_value"
   ]
  },
  {
   "attachments": {},
   "cell_type": "markdown",
   "metadata": {},
   "source": [
    "Где:  \n",
    "`VAR_NAME` - имя переменной окружения  \n",
    "`var_value` - значениие переменной окружения\n",
    "\n",
    "Обратите внимние, что `VAR_NAME` пишется в верхнем регистре.\n",
    "\n",
    "Для вывода переменной, нужно написать:"
   ]
  },
  {
   "cell_type": "code",
   "execution_count": null,
   "metadata": {},
   "outputs": [],
   "source": [
    "echo '%VAR_NAME%'"
   ]
  },
  {
   "attachments": {},
   "cell_type": "markdown",
   "metadata": {},
   "source": [
    "Где:  \n",
    "`VAR_NAME` - имя переменной окружения.\n",
    "\n",
    "Созданную переменную окружения в рамках сессии командного интерпретатора можно получить, используя следующий код:"
   ]
  },
  {
   "cell_type": "code",
   "execution_count": null,
   "metadata": {},
   "outputs": [],
   "source": [
    "import os\n",
    "\n",
    "\n",
    "key = os.getenv('VAR_NAME')"
   ]
  },
  {
   "attachments": {},
   "cell_type": "markdown",
   "metadata": {},
   "source": [
    "Но данный способ также ограничен заупущенной сессией, и если мы запустим python file в новом терминале, то получим `None`.\n",
    "\n",
    "## Переменные окружения python-dotenv\n",
    "\n",
    "В python есть модуль, работающий с переменными окружения - `python-dotenv`.\n",
    "\n",
    "Для установки нужно выполнить:"
   ]
  },
  {
   "cell_type": "code",
   "execution_count": null,
   "metadata": {},
   "outputs": [],
   "source": [
    "pip install python-dotenv"
   ]
  },
  {
   "attachments": {},
   "cell_type": "markdown",
   "metadata": {},
   "source": [
    "Послу установки модуля нужно создать файл `.env`"
   ]
  },
  {
   "attachments": {},
   "cell_type": "markdown",
   "metadata": {},
   "source": [
    "В данный файл необходимо передать переменные окружения в следующем виде:  "
   ]
  },
  {
   "cell_type": "code",
   "execution_count": null,
   "metadata": {},
   "outputs": [],
   "source": [
    "VAR_NAME1='var_value1'\n",
    "VAR_NAME2='var_value2'\n",
    "VAR_NAME3='var_value3'"
   ]
  },
  {
   "attachments": {},
   "cell_type": "markdown",
   "metadata": {},
   "source": [
    "Само собой данный файл не нужно добавлять в удаленный репозиторий.  \n",
    "То есть в `.gitignore` нужно включить `.env`. \n",
    "\n",
    "Для доступа к переменным окружения необходимо:"
   ]
  },
  {
   "cell_type": "code",
   "execution_count": null,
   "metadata": {},
   "outputs": [],
   "source": [
    "from dotenv import load_dotenv # импортировать функцию load_dotenv\n",
    "import os\n",
    "\n",
    "load_dotenv() # вызвать функцию load_dotenv\n",
    "\n",
    "var_name = os.getenv('VAR_NAME1') # получить доступ к переменной окружения"
   ]
  },
  {
   "attachments": {},
   "cell_type": "markdown",
   "metadata": {},
   "source": [
    "Также можно устанавливать переменные окружения для конкретного приложения python.\n",
    "\n",
    "Для этого необходимо прямо обозначить их при запуске приложения в консоли:"
   ]
  },
  {
   "cell_type": "code",
   "execution_count": null,
   "metadata": {},
   "outputs": [],
   "source": [
    "VAR_NAME=var_value python main.py"
   ]
  }
 ],
 "metadata": {
  "kernelspec": {
   "display_name": ".venv",
   "language": "python",
   "name": "python3"
  },
  "language_info": {
   "name": "python",
   "version": "3.11.0"
  },
  "orig_nbformat": 4
 },
 "nbformat": 4,
 "nbformat_minor": 2
}
