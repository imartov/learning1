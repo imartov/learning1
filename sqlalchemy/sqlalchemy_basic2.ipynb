{
 "cells": [
  {
   "cell_type": "markdown",
   "metadata": {},
   "source": [
    "Ссылка: https://www.youtube.com/watch?v=sIbzKA6MId8\n",
    "\n",
    "# SQLAlchemy\n",
    "\n",
    "`SQLAlchemy` - это библиотке `Python` для работы с БД, который использует `ORM`, который позволяет работать с базой при помощи языка `Python`, а не `SQL`.\n",
    "\n",
    "## Определение модели\n",
    "\n",
    "<b>Недекларативный способ</b> - сначала следует создание объекта таблицы, потом связываем ее с БД, а после связываем с классами, созданными нами.  \n",
    "<b>Декларативный способ</b> - связка модели и таблицы происходит непосредственно в классе одновременно.  \n",
    "Чаже всего используютДекларативный подход.\n",
    "\n",
    "Вот пример:\n"
   ]
  },
  {
   "cell_type": "code",
   "execution_count": null,
   "metadata": {},
   "outputs": [],
   "source": [
    "import sqlalchemy as db \n",
    "\n",
    "\n",
    "metadata = db.MetaData()\n",
    "\n",
    "authors = db.Table(\"authors\", metadata,\n",
    "    db.Column(\"id_author\", db.Integer, primary_key=True),\n",
    "    db.Column(\"name\", db.String(250))\n",
    ")\n",
    "\n",
    "books = db.Table(\"books\", metadata,\n",
    "    db.Column(\"id_book\", db.Integer, primary_key=True),\n",
    "    db.Column(\"title\", db.String(250), nullable=False),\n",
    "    db.Column(\"author_id\", db.Integer, db.ForeignKey(\"authors.id_author\")),\n",
    "    db.Column(\"genre\", db.String(250)),\n",
    "    db.Column(\"price\", db.Integer)\n",
    ")\n",
    "\n",
    "engine = db.create_engine('sqlite:///books.db')\n",
    "metadata.create_all(engine)\n",
    "\n",
    "conneection = engine.connect()\n",
    "\n",
    "insert_author_query = authors.insert.valeus([\n",
    "    {\"name\": \"Lutz\"}\n",
    "])"
   ]
  }
 ],
 "metadata": {
  "kernelspec": {
   "display_name": ".venv",
   "language": "python",
   "name": "python3"
  },
  "language_info": {
   "codemirror_mode": {
    "name": "ipython",
    "version": 3
   },
   "file_extension": ".py",
   "mimetype": "text/x-python",
   "name": "python",
   "nbconvert_exporter": "python",
   "pygments_lexer": "ipython3",
   "version": "3.11.0"
  },
  "orig_nbformat": 4
 },
 "nbformat": 4,
 "nbformat_minor": 2
}
