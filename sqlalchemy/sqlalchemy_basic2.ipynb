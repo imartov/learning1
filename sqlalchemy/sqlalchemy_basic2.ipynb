{
 "cells": [
  {
   "cell_type": "markdown",
   "metadata": {},
   "source": [
    "Ссылка: https://www.youtube.com/watch?v=sIbzKA6MId8\n",
    "\n",
    "# SQLAlchemy\n",
    "\n",
    "`SQLAlchemy` - это библиотке `Python` для работы с БД, который использует `ORM`, который позволяет работать с базой при помощи языка `Python`, а не `SQL`.\n",
    "\n",
    "## Определение модели\n",
    "\n",
    "<b>Недекларативный способ</b> - сначала следует создание объекта таблицы, потом связываем ее с БД, а после связываем с классами, созданными нами.  \n",
    "<b>Декларативный способ</b> - связка модели и таблицы происходит непосредственно в классе одновременно.  \n",
    "Чаже всего используютДекларативный подход.\n",
    "\n",
    "Вот пример создания БД:"
   ]
  },
  {
   "cell_type": "code",
   "execution_count": 1,
   "metadata": {},
   "outputs": [
    {
     "name": "stderr",
     "output_type": "stream",
     "text": [
      "c:\\temp1\\ipykernel_12588\\33293353.py:27: RemovedIn20Warning: Deprecated API features detected! These feature(s) are not compatible with SQLAlchemy 2.0. To prevent incompatible upgrades prior to updating applications, ensure requirements files are pinned to \"sqlalchemy<2.0\". Set environment variable SQLALCHEMY_WARN_20=1 to show all deprecation warnings.  Set environment variable SQLALCHEMY_SILENCE_UBER_WARNING=1 to silence this message. (Background on SQLAlchemy 2.0 at: https://sqlalche.me/e/b8d9)\n",
      "  conneection.execute(insert_author_query)\n"
     ]
    },
    {
     "data": {
      "text/plain": [
       "<sqlalchemy.engine.cursor.LegacyCursorResult at 0x278747f5b10>"
      ]
     },
     "execution_count": 1,
     "metadata": {},
     "output_type": "execute_result"
    }
   ],
   "source": [
    "import sqlalchemy as db \n",
    "\n",
    "\n",
    "metadata = db.MetaData() # информация о БД и ее объектах\n",
    "\n",
    "authors = db.Table(\"authors\", metadata,\n",
    "    db.Column(\"id_author\", db.Integer, primary_key=True),\n",
    "    db.Column(\"name\", db.String(250))\n",
    ")\n",
    "\n",
    "books = db.Table(\"books\", metadata,\n",
    "    db.Column(\"id_book\", db.Integer, primary_key=True),\n",
    "    db.Column(\"title\", db.String(250), nullable=False),\n",
    "    db.Column(\"author_id\", db.Integer, db.ForeignKey(\"authors.id_author\")),\n",
    "    db.Column(\"genre\", db.String(250)),\n",
    "    db.Column(\"price\", db.Integer)\n",
    ")\n",
    "\n",
    "engine = db.create_engine('sqlite:///books.db')\n",
    "metadata.create_all(engine)\n",
    "\n",
    "conneection = engine.connect()\n",
    "\n",
    "insert_author_query = authors.insert().values([\n",
    "    {\"name\": \"Lutz\"}\n",
    "])\n",
    "conneection.execute(insert_author_query)\n",
    "\n",
    "insert_books_query = books.insert().values([\n",
    "    {\"title\": \"Learn Python\", \"author_id\": 1, \"genre\": \"Education\", \"price\": 1299},\n",
    "    {\"title\": \"Clear Python\", \"author_id\": 1, \"genre\": \"Education\", \"price\": 956},\n",
    "])\n",
    "conneection.execute(insert_books_query)\n",
    "\n"
   ]
  },
  {
   "cell_type": "markdown",
   "metadata": {},
   "source": [
    "Получим данные:"
   ]
  },
  {
   "cell_type": "code",
   "execution_count": 2,
   "metadata": {},
   "outputs": [
    {
     "name": "stdout",
     "output_type": "stream",
     "text": [
      "[(1, 'Learn Python', 1, 'Education', 1299), (3, 'Learn Python', 1, 'Education', 1299), (5, 'Learn Python', 1, 'Education', 1299), (7, 'Learn Python', 1, 'Education', 1299)]\n"
     ]
    }
   ],
   "source": [
    "books_gr_1000_query = books.select().where(books.columns.price > 1000)\n",
    "result = conneection.execute(books_gr_1000_query)\n",
    "print(result.fetchall())"
   ]
  },
  {
   "cell_type": "markdown",
   "metadata": {},
   "source": [
    "Еще получим данные:"
   ]
  },
  {
   "cell_type": "code",
   "execution_count": 3,
   "metadata": {},
   "outputs": [
    {
     "name": "stdout",
     "output_type": "stream",
     "text": [
      "[(1, 'Lutz', 1, 'Learn Python', 1, 'Education', 1299), (1, 'Lutz', 2, 'Clear Python', 1, 'Education', 956), (1, 'Lutz', 3, 'Learn Python', 1, 'Education', 1299), (1, 'Lutz', 4, 'Clear Python', 1, 'Education', 956), (1, 'Lutz', 5, 'Learn Python', 1, 'Education', 1299), (1, 'Lutz', 6, 'Clear Python', 1, 'Education', 956), (1, 'Lutz', 7, 'Learn Python', 1, 'Education', 1299), (1, 'Lutz', 8, 'Clear Python', 1, 'Education', 956)]\n"
     ]
    }
   ],
   "source": [
    "join_select = db.select([authors, books]).where(authors.columns.id_author == books.columns.author_id)\n",
    "result_join = conneection.execute(join_select)\n",
    "print(result_join.fetchall())"
   ]
  },
  {
   "cell_type": "markdown",
   "metadata": {},
   "source": [
    "## Подключение и работа с существующей БД\n",
    "\n",
    "Вот пример:"
   ]
  },
  {
   "cell_type": "code",
   "execution_count": 6,
   "metadata": {},
   "outputs": [
    {
     "name": "stdout",
     "output_type": "stream",
     "text": [
      "[(1, 'Lutz', 1, 'Learn Python', 1, 'Education', 1299), (1, 'Lutz', 3, 'Learn Python', 1, 'Education', 1299), (1, 'Lutz', 5, 'Learn Python', 1, 'Education', 1299), (1, 'Lutz', 7, 'Learn Python', 1, 'Education', 1299)]\n"
     ]
    }
   ],
   "source": [
    "import sqlalchemy as db\n",
    "\n",
    "\n",
    "engine = db.create_engine(\"sqlite:///books.db\")\n",
    "metadata = db.MetaData(engine) # помещаем данные БД в объект MetaData\n",
    "\n",
    "# загружаем таблицы в переменные\n",
    "authors = db.Table(\"authors\", metadata, autoload=True)\n",
    "books = db.Table(\"books\", metadata, autoload=True)\n",
    "\n",
    "# создаем подключение\n",
    "connection = engine.connect()\n",
    "\n",
    "# создание объекта выборки, обратите внимание на db.and_\n",
    "select_query = db.select([authors, books]).where(db.and_(authors.columns.id_author == books.columns.author_id, books.columns.price > 1000))\n",
    "result = connection.execute(select_query)\n",
    "print(result.fetchall())"
   ]
  }
 ],
 "metadata": {
  "kernelspec": {
   "display_name": ".venv",
   "language": "python",
   "name": "python3"
  },
  "language_info": {
   "codemirror_mode": {
    "name": "ipython",
    "version": 3
   },
   "file_extension": ".py",
   "mimetype": "text/x-python",
   "name": "python",
   "nbconvert_exporter": "python",
   "pygments_lexer": "ipython3",
   "version": "3.11.0"
  },
  "orig_nbformat": 4
 },
 "nbformat": 4,
 "nbformat_minor": 2
}
