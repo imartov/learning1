{
 "cells": [
  {
   "cell_type": "markdown",
   "metadata": {},
   "source": [
    "Ссылка: https://www.youtube.com/watch?v=sIbzKA6MId8\n",
    "\n",
    "# SQLAlchemy\n",
    "\n",
    "`SQLAlchemy` - это библиотке `Python` для работы с БД, который использует `ORM`, который позволяет работать с базой при помощи языка `Python`, а не `SQL`.\n",
    "\n",
    "## Определение модели\n",
    "\n",
    "<b>Недекларативный способ</b> - сначала следует создание объекта таблицы, потом связываем ее с БД, а после связываем с классами, созданными нами.  \n",
    "<b>Декларативный способ</b> - связка модели и таблицы происходит непосредственно в классе одновременно.  \n",
    "Чаже всего используютДекларативный подход.\n",
    "\n",
    "Вот пример создания БД:"
   ]
  },
  {
   "cell_type": "code",
   "execution_count": 1,
   "metadata": {},
   "outputs": [
    {
     "name": "stderr",
     "output_type": "stream",
     "text": [
      "c:\\temp1\\ipykernel_12588\\33293353.py:27: RemovedIn20Warning: Deprecated API features detected! These feature(s) are not compatible with SQLAlchemy 2.0. To prevent incompatible upgrades prior to updating applications, ensure requirements files are pinned to \"sqlalchemy<2.0\". Set environment variable SQLALCHEMY_WARN_20=1 to show all deprecation warnings.  Set environment variable SQLALCHEMY_SILENCE_UBER_WARNING=1 to silence this message. (Background on SQLAlchemy 2.0 at: https://sqlalche.me/e/b8d9)\n",
      "  conneection.execute(insert_author_query)\n"
     ]
    },
    {
     "data": {
      "text/plain": [
       "<sqlalchemy.engine.cursor.LegacyCursorResult at 0x278747f5b10>"
      ]
     },
     "execution_count": 1,
     "metadata": {},
     "output_type": "execute_result"
    }
   ],
   "source": [
    "import sqlalchemy as db \n",
    "\n",
    "\n",
    "metadata = db.MetaData() # информация о БД и ее объектах\n",
    "\n",
    "authors = db.Table(\"authors\", metadata,\n",
    "    db.Column(\"id_author\", db.Integer, primary_key=True),\n",
    "    db.Column(\"name\", db.String(250))\n",
    ")\n",
    "\n",
    "books = db.Table(\"books\", metadata,\n",
    "    db.Column(\"id_book\", db.Integer, primary_key=True),\n",
    "    db.Column(\"title\", db.String(250), nullable=False),\n",
    "    db.Column(\"author_id\", db.Integer, db.ForeignKey(\"authors.id_author\")),\n",
    "    db.Column(\"genre\", db.String(250)),\n",
    "    db.Column(\"price\", db.Integer)\n",
    ")\n",
    "\n",
    "engine = db.create_engine('sqlite:///books.db')\n",
    "metadata.create_all(engine)\n",
    "\n",
    "conneection = engine.connect()\n",
    "\n",
    "insert_author_query = authors.insert().values([\n",
    "    {\"name\": \"Lutz\"}\n",
    "])\n",
    "conneection.execute(insert_author_query)\n",
    "\n",
    "insert_books_query = books.insert().values([\n",
    "    {\"title\": \"Learn Python\", \"author_id\": 1, \"genre\": \"Education\", \"price\": 1299},\n",
    "    {\"title\": \"Clear Python\", \"author_id\": 1, \"genre\": \"Education\", \"price\": 956},\n",
    "])\n",
    "conneection.execute(insert_books_query)\n",
    "\n"
   ]
  },
  {
   "cell_type": "markdown",
   "metadata": {},
   "source": [
    "Получим данные:"
   ]
  },
  {
   "cell_type": "code",
   "execution_count": 2,
   "metadata": {},
   "outputs": [
    {
     "name": "stdout",
     "output_type": "stream",
     "text": [
      "[(1, 'Learn Python', 1, 'Education', 1299), (3, 'Learn Python', 1, 'Education', 1299), (5, 'Learn Python', 1, 'Education', 1299), (7, 'Learn Python', 1, 'Education', 1299)]\n"
     ]
    }
   ],
   "source": [
    "books_gr_1000_query = books.select().where(books.columns.price > 1000)\n",
    "result = conneection.execute(books_gr_1000_query)\n",
    "print(result.fetchall())"
   ]
  },
  {
   "cell_type": "markdown",
   "metadata": {},
   "source": [
    "Еще получим данные:"
   ]
  },
  {
   "cell_type": "code",
   "execution_count": 3,
   "metadata": {},
   "outputs": [
    {
     "name": "stdout",
     "output_type": "stream",
     "text": [
      "[(1, 'Lutz', 1, 'Learn Python', 1, 'Education', 1299), (1, 'Lutz', 2, 'Clear Python', 1, 'Education', 956), (1, 'Lutz', 3, 'Learn Python', 1, 'Education', 1299), (1, 'Lutz', 4, 'Clear Python', 1, 'Education', 956), (1, 'Lutz', 5, 'Learn Python', 1, 'Education', 1299), (1, 'Lutz', 6, 'Clear Python', 1, 'Education', 956), (1, 'Lutz', 7, 'Learn Python', 1, 'Education', 1299), (1, 'Lutz', 8, 'Clear Python', 1, 'Education', 956)]\n"
     ]
    }
   ],
   "source": [
    "join_select = db.select([authors, books]).where(authors.columns.id_author == books.columns.author_id)\n",
    "result_join = conneection.execute(join_select)\n",
    "print(result_join.fetchall())"
   ]
  },
  {
   "cell_type": "markdown",
   "metadata": {},
   "source": [
    "## Подключение и работа с существующей БД\n",
    "\n",
    "Вот пример:"
   ]
  },
  {
   "cell_type": "code",
   "execution_count": 6,
   "metadata": {},
   "outputs": [
    {
     "name": "stdout",
     "output_type": "stream",
     "text": [
      "[(1, 'Lutz', 1, 'Learn Python', 1, 'Education', 1299), (1, 'Lutz', 3, 'Learn Python', 1, 'Education', 1299), (1, 'Lutz', 5, 'Learn Python', 1, 'Education', 1299), (1, 'Lutz', 7, 'Learn Python', 1, 'Education', 1299)]\n"
     ]
    }
   ],
   "source": [
    "import sqlalchemy as db\n",
    "\n",
    "\n",
    "engine = db.create_engine(\"sqlite:///books.db\")\n",
    "metadata = db.MetaData(engine) # помещаем данные БД в объект MetaData\n",
    "\n",
    "# загружаем таблицы в переменные\n",
    "authors = db.Table(\"authors\", metadata, autoload=True)\n",
    "books = db.Table(\"books\", metadata, autoload=True)\n",
    "\n",
    "# создаем подключение\n",
    "connection = engine.connect()\n",
    "\n",
    "# создание объекта выборки, обратите внимание на db.and_\n",
    "select_query = db.select([authors, books]).where(db.and_(authors.columns.id_author == books.columns.author_id, books.columns.price > 1000))\n",
    "result = connection.execute(select_query)\n",
    "print(result.fetchall())"
   ]
  },
  {
   "cell_type": "markdown",
   "metadata": {},
   "source": [
    "Удаление данных:"
   ]
  },
  {
   "cell_type": "code",
   "execution_count": 8,
   "metadata": {},
   "outputs": [
    {
     "data": {
      "text/plain": [
       "<sqlalchemy.engine.cursor.LegacyCursorResult at 0x27874815d10>"
      ]
     },
     "execution_count": 8,
     "metadata": {},
     "output_type": "execute_result"
    }
   ],
   "source": [
    "delete_query = books.delete().where(books.columns.author_id == 1)\n",
    "connection.execute(delete_query)"
   ]
  },
  {
   "cell_type": "markdown",
   "metadata": {},
   "source": [
    "Обновление данных:"
   ]
  },
  {
   "cell_type": "code",
   "execution_count": 9,
   "metadata": {},
   "outputs": [
    {
     "data": {
      "text/plain": [
       "<sqlalchemy.engine.cursor.LegacyCursorResult at 0x27874081110>"
      ]
     },
     "execution_count": 9,
     "metadata": {},
     "output_type": "execute_result"
    }
   ],
   "source": [
    "update_query = books.update().where(books.columns.id_book == 1).values(\"AnotherTitle\")\n",
    "connection.execute(update_query)"
   ]
  },
  {
   "cell_type": "markdown",
   "metadata": {},
   "source": [
    "## Связывание с классами\n",
    "\n",
    "В данных пример разберем случае, когда все взаимодействие с БД будет происходить с помощью сессий.\n",
    "Вот пример:"
   ]
  },
  {
   "cell_type": "code",
   "execution_count": null,
   "metadata": {},
   "outputs": [],
   "source": [
    "from sqlalchemy.orm import mapper, relationship, sessionmaker\n",
    "import sqlalchemy as db\n",
    "\n",
    "\n",
    "engine = db.create_engine(\"sqlite:///books.db\")\n",
    "metadata = db.MetaData(engine)\n",
    "\n",
    "# загружаем таблицы в переменные\n",
    "authors = db.Table(\"authors\", metadata, autoload=True)\n",
    "books = db.Table(\"books\", metadata, autoload=True)\n",
    "\n",
    "class Book():\n",
    "    def __init__(self, title, author_id, genre, price) -> None:\n",
    "        self.title = title\n",
    "        self.author_id = author_id\n",
    "        self.genre = genre\n",
    "        self.price = price\n",
    "\n",
    "    def __repr__(self) -> str:\n",
    "        return \"<Book ('%s', '%s', '%s' , '%s')>\" % (self.title, str(self.author_id), self.genre, str(self.price))\n",
    "    \n",
    "\n",
    "class Authors():\n",
    "    def __init__(self, name) -> None:\n",
    "        self.name = name\n",
    "\n",
    "    def __repr__(self) -> str:\n",
    "        return \"<Author '%s'\" % self.name\n",
    "    \n",
    "\n",
    "# связываем классы и таблицы\n",
    "mapper(Book, books)\n",
    "mapper(Authors, authors)\n",
    "\n",
    "# добавим книгу в БД объектным способом\n",
    "new_book = Book(\"NewBook\", 1, \"NewG\", 2500)\n",
    "\n",
    "# используем сессии для связи с БД\n",
    "DBSession = sessionmaker(bind=engine)\n",
    "\n",
    "# создаем объект созданной сессии\n",
    "session = DBSession()\n",
    "\n",
    "# добавляем запись в таблицу\n",
    "session.add(new_book)\n",
    "\n",
    "# комитим изменения\n",
    "session.commit()"
   ]
  },
  {
   "cell_type": "markdown",
   "metadata": {},
   "source": [
    "Сделаем `select`:"
   ]
  },
  {
   "cell_type": "code",
   "execution_count": 16,
   "metadata": {},
   "outputs": [
    {
     "name": "stdout",
     "output_type": "stream",
     "text": [
      "<Book ('NewBook', '1', 'NewG' , '2500')>\n",
      "<Book ('NewBook', '1', 'NewG' , '2500')>\n",
      "<Book ('NewBook', '1', 'NewG' , '2500')>\n",
      "<Book ('NewBook', '1', 'NewG' , '2500')>\n",
      "<Book ('NewBook', '1', 'NewG' , '2500')>\n",
      "<Book ('NewBook', '1', 'NewG' , '2500')>\n"
     ]
    }
   ],
   "source": [
    "for row in session.query(Book).filter(Book.price > 1000):\n",
    "    print(row)"
   ]
  },
  {
   "cell_type": "markdown",
   "metadata": {},
   "source": [
    "Сложный запрос с несколькитми улсовиями:"
   ]
  },
  {
   "cell_type": "code",
   "execution_count": 4,
   "metadata": {},
   "outputs": [
    {
     "name": "stdout",
     "output_type": "stream",
     "text": [
      "NewBook Lutz\n",
      "NewBook Lutz\n",
      "NewBook Lutz\n",
      "NewBook Lutz\n",
      "NewBook Lutz\n",
      "NewBook Lutz\n",
      "NewBook Lutz\n"
     ]
    },
    {
     "name": "stderr",
     "output_type": "stream",
     "text": [
      "c:\\temp1\\ipykernel_19252\\1079631501.py:6: RemovedIn20Warning: Deprecated API features detected! These feature(s) are not compatible with SQLAlchemy 2.0. To prevent incompatible upgrades prior to updating applications, ensure requirements files are pinned to \"sqlalchemy<2.0\". Set environment variable SQLALCHEMY_WARN_20=1 to show all deprecation warnings.  Set environment variable SQLALCHEMY_SILENCE_UBER_WARNING=1 to silence this message. (Background on SQLAlchemy 2.0 at: https://sqlalche.me/e/b8d9)\n",
      "  metadata = db.MetaData(engine)\n"
     ]
    }
   ],
   "source": [
    "from sqlalchemy.orm import mapper, relationship, sessionmaker\n",
    "import sqlalchemy as db\n",
    "\n",
    "\n",
    "engine = db.create_engine(\"sqlite:///books.db\")\n",
    "metadata = db.MetaData(engine)\n",
    "\n",
    "authors = db.Table(\"authors\", metadata, autoload=True)\n",
    "books = db.Table(\"books\", metadata, autoload=True)\n",
    "\n",
    "class Book():\n",
    "    def __init__(self, title, author_id, genre, price) -> None:\n",
    "        self.title = title\n",
    "        self.author_id = author_id\n",
    "        self.genre = genre\n",
    "        self.price = price\n",
    "\n",
    "    def __repr__(self) -> str:\n",
    "        return \"<Book ('%s', '%s', '%s' , '%s')>\" % (self.title, str(self.author_id), self.genre, str(self.price))\n",
    "    \n",
    "\n",
    "class Authors():\n",
    "    def __init__(self, name) -> None:\n",
    "        self.name = name\n",
    "\n",
    "    def __repr__(self) -> str:\n",
    "        return \"<Author '%s'\" % self.name\n",
    "    \n",
    "\n",
    "mapper(Book, books)\n",
    "mapper(Authors, authors)\n",
    "\n",
    "new_book = Book(\"NewBook\", 1, \"NewG\", 2500)\n",
    "\n",
    "DBSession = sessionmaker(bind=engine)\n",
    "\n",
    "session = DBSession()\n",
    "\n",
    "session.add(new_book)\n",
    "\n",
    "session.commit()\n",
    "\n",
    "# запрос\n",
    "for row in session.query(Book, Authors).filter(Book.author_id == Authors.id_author).filter(Book.price > 1000):\n",
    "    print(row.Book.title, row.Authors.name)"
   ]
  },
  {
   "cell_type": "markdown",
   "metadata": {},
   "source": [
    "Запрос на обновление данных:"
   ]
  },
  {
   "cell_type": "code",
   "execution_count": 5,
   "metadata": {},
   "outputs": [],
   "source": [
    "query_book = session.query(Book).filter(Book.id_book == 3).one()\n",
    "if query_book != []:\n",
    "    query_book.price = 3000\n",
    "    session.add(query_book)\n",
    "    session.commit()"
   ]
  },
  {
   "cell_type": "markdown",
   "metadata": {},
   "source": [
    "Запрос на удаление данных:"
   ]
  },
  {
   "cell_type": "code",
   "execution_count": 6,
   "metadata": {},
   "outputs": [
    {
     "name": "stdout",
     "output_type": "stream",
     "text": [
      "<Book ('NewBook', '1', 'NewG' , '3000')>\n"
     ]
    }
   ],
   "source": [
    "query_book = session.query(Book).filter(Book.id_book == 3).one()\n",
    "if query_book:\n",
    "    print(query_book)\n",
    "    session.delete(query_book)\n",
    "    session.commit()"
   ]
  },
  {
   "cell_type": "markdown",
   "metadata": {},
   "source": [
    "## Декларативное определение\n",
    "\n",
    "Данный подход короче и им пользуются чаще всего.  \n",
    "Связывание таблицы в базе с пользовательским классом происходит в моменте его создания.\n",
    "\n",
    "Вот пример:"
   ]
  },
  {
   "cell_type": "code",
   "execution_count": 8,
   "metadata": {},
   "outputs": [
    {
     "name": "stdout",
     "output_type": "stream",
     "text": [
      "2023-08-12 11:21:42,231 INFO sqlalchemy.engine.Engine BEGIN (implicit)\n",
      "2023-08-12 11:21:42,231 INFO sqlalchemy.engine.Engine PRAGMA main.table_info(\"Books\")\n",
      "2023-08-12 11:21:42,231 INFO sqlalchemy.engine.Engine [raw sql] ()\n",
      "2023-08-12 11:21:42,239 INFO sqlalchemy.engine.Engine PRAGMA temp.table_info(\"Books\")\n",
      "2023-08-12 11:21:42,239 INFO sqlalchemy.engine.Engine [raw sql] ()\n",
      "2023-08-12 11:21:42,239 INFO sqlalchemy.engine.Engine PRAGMA main.table_info(\"Authors\")\n",
      "2023-08-12 11:21:42,239 INFO sqlalchemy.engine.Engine [raw sql] ()\n",
      "2023-08-12 11:21:42,239 INFO sqlalchemy.engine.Engine PRAGMA temp.table_info(\"Authors\")\n",
      "2023-08-12 11:21:42,239 INFO sqlalchemy.engine.Engine [raw sql] ()\n",
      "2023-08-12 11:21:42,239 INFO sqlalchemy.engine.Engine \n",
      "CREATE TABLE \"Authors\" (\n",
      "\tid INTEGER NOT NULL, \n",
      "\tname VARCHAR(250) NOT NULL, \n",
      "\tPRIMARY KEY (id)\n",
      ")\n",
      "\n",
      "\n",
      "2023-08-12 11:21:42,247 INFO sqlalchemy.engine.Engine [no key 0.00103s] ()\n",
      "2023-08-12 11:21:42,255 INFO sqlalchemy.engine.Engine \n",
      "CREATE TABLE \"Books\" (\n",
      "\tid INTEGER NOT NULL, \n",
      "\ttitle VARCHAR(250) NOT NULL, \n",
      "\tauthor_id INTEGER, \n",
      "\tgenre VARCHAR(250), \n",
      "\tpriec INTEGER NOT NULL, \n",
      "\tPRIMARY KEY (id), \n",
      "\tFOREIGN KEY(author_id) REFERENCES \"Authors\" (id)\n",
      ")\n",
      "\n",
      "\n",
      "2023-08-12 11:21:42,255 INFO sqlalchemy.engine.Engine [no key 0.00271s] ()\n",
      "2023-08-12 11:21:42,263 INFO sqlalchemy.engine.Engine COMMIT\n"
     ]
    }
   ],
   "source": [
    "import sqlalchemy as db\n",
    "from sqlalchemy.ext.declarative import declarative_base\n",
    "from sqlalchemy.orm import relationship\n",
    "\n",
    "\n",
    "# новый объект БД\n",
    "engine = db.create_engine(\"sqlite:///books2.db\", echo=True)\n",
    "Base = declarative_base()\n",
    "\n",
    "\n",
    "class Book(Base):\n",
    "    ''' присваиваем имя таблицы в БД и одновременно связываем ее с классом '''\n",
    "    __tablename__ = \"Books\"\n",
    "\n",
    "    id = db.Column(db.Integer, primary_key=True)\n",
    "    title = db.Column(db.String(250), nullable=False)\n",
    "    author_id = db.Column(db.Integer, db.ForeignKey(\"Authors.id\"))\n",
    "    genre = db.Column(db.String(250))\n",
    "    priec = db.Column(db.Integer, nullable=False)\n",
    "    author = relationship(\"Author\")\n",
    "\n",
    "\n",
    "class Author(Base):\n",
    "    ''' присваиваем имя таблицы в БД и одновременно связываем ее с классом '''\n",
    "    __tablename__ = \"Authors\"\n",
    "\n",
    "    id = db.Column(db.Integer, primary_key=True)\n",
    "    name = db.Column(db.String(250), nullable=False)\n",
    "    book = relationship(\"Book\") # связь 1 ко многим\n",
    "\n",
    "\n",
    "# создаем БД и записываем изменения в БД\n",
    "Base.metadata.create_all(engine)"
   ]
  }
 ],
 "metadata": {
  "kernelspec": {
   "display_name": ".venv",
   "language": "python",
   "name": "python3"
  },
  "language_info": {
   "codemirror_mode": {
    "name": "ipython",
    "version": 3
   },
   "file_extension": ".py",
   "mimetype": "text/x-python",
   "name": "python",
   "nbconvert_exporter": "python",
   "pygments_lexer": "ipython3",
   "version": "3.11.0"
  },
  "orig_nbformat": 4
 },
 "nbformat": 4,
 "nbformat_minor": 2
}
