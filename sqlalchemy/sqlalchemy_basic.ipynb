{
 "cells": [
  {
   "cell_type": "markdown",
   "metadata": {},
   "source": [
    "Ссылка: https://www.youtube.com/watch?v=WJZA3sfFi18\n",
    "\n",
    "# SQLAlchemy\n",
    "\n",
    "`SQLAlchemy` - это библиотке `Python` для работы с БД, который использует `ORM`, который позволяет работать с базой при помощи языка `Python`, а не `SQL`.\n",
    "\n",
    "## Установка\n",
    "\n",
    "`pip installl sqlalchemy`\n",
    "\n",
    "Пример:"
   ]
  },
  {
   "cell_type": "code",
   "execution_count": 1,
   "metadata": {},
   "outputs": [],
   "source": [
    "import sqlalchemy as db\n",
    "\n",
    "\n",
    "# двигатель БД, отправная точка sql-приложения\n",
    "engine = db.create_engine('sqlite:///products-sqlalchemy.db')\n",
    "\n",
    "# устанавливаем соединение с БД\n",
    "connection = engine.connect()\n",
    "\n",
    "# создаем объект для хранения таблиц в БД\n",
    "metadata = db.MetaData()\n",
    "\n",
    "# создание таблицы\n",
    "products = db.Table('products', metadata, \n",
    "                    db.Column('product_id', db.Integer, primary_key=True),\n",
    "                    db.Column('product_name', db.Text),\n",
    "                    db.Column('suplier_name', db.Text),\n",
    "                    db.Column('price_per_tonne', db.Integer))\n",
    "\n",
    "metadata.create_all(engine)"
   ]
  },
  {
   "attachments": {
    "image.png": {
     "image/png": "[encoded data removed]"
    }
   },
   "cell_type": "markdown",
   "metadata": {},
   "source": [
    "Функция `create_engine` создает объект приложения, который будет использоваться для взаимодействия с БД.  \n",
    "Объект `metadata` представляет собой условный контейнер, где будут хранится таблицы (словари) с данными.\n",
    "\n",
    "После запуска скрипта в рабочей деритокрии появляется файл БД.  \n",
    "![image.png](attachment:image.png)\n",
    "\n",
    "Заполним таблицу данными:"
   ]
  },
  {
   "cell_type": "code",
   "execution_count": 3,
   "metadata": {},
   "outputs": [
    {
     "data": {
      "text/plain": [
       "<sqlalchemy.engine.cursor.CursorResult at 0x2738a5df9a0>"
      ]
     },
     "execution_count": 3,
     "metadata": {},
     "output_type": "execute_result"
    }
   ],
   "source": [
    "# создаем объект данных\n",
    "insertion_query = products.insert().values([\n",
    "    {\"product_name\": \"Banana\", \"suplier_name\": \"United Bananas\", \"price_per_tonne\": 7000},\n",
    "    {\"product_name\": \"Avocado\", \"suplier_name\": \"United Avocados\", \"price_per_tonne\": 12000},\n",
    "    {\"product_name\": \"Tomatoes\", \"suplier_name\": \"United Tomatoes\", \"price_per_tonne\": 3100}\n",
    "])\n",
    "\n",
    "# выполняем вставку созданного объекта данных\n",
    "connection.execute(insertion_query)"
   ]
  },
  {
   "cell_type": "markdown",
   "metadata": {},
   "source": [
    "Поле `product_id` заполняется автоматически, так как `primary key`.\n",
    "\n",
    "Сохраним выборку `select` запроса:"
   ]
  },
  {
   "cell_type": "code",
   "execution_count": 4,
   "metadata": {},
   "outputs": [
    {
     "name": "stdout",
     "output_type": "stream",
     "text": [
      "[(1, 'Banana', 'United Bananas', 7000), (2, 'Avocado', 'United Avocados', 12000), (3, 'Tomatoes', 'United Tomatoes', 3100), (4, 'Banana', 'United Bananas', 7000), (5, 'Avocado', 'United Avocados', 12000), (6, 'Tomatoes', 'United Tomatoes', 3100)]\n"
     ]
    },
    {
     "name": "stderr",
     "output_type": "stream",
     "text": [
      "c:\\temp1\\ipykernel_10248\\661510261.py:30: RemovedIn20Warning: Deprecated API features detected! These feature(s) are not compatible with SQLAlchemy 2.0. To prevent incompatible upgrades prior to updating applications, ensure requirements files are pinned to \"sqlalchemy<2.0\". Set environment variable SQLALCHEMY_WARN_20=1 to show all deprecation warnings.  Set environment variable SQLALCHEMY_SILENCE_UBER_WARNING=1 to silence this message. (Background on SQLAlchemy 2.0 at: https://sqlalche.me/e/b8d9)\n",
      "  connection.execute(insertion_query)\n"
     ]
    }
   ],
   "source": [
    "import sqlalchemy as db\n",
    "\n",
    "\n",
    "# двигатель БД, отправная точка sql-приложения\n",
    "engine = db.create_engine('sqlite:///products-sqlalchemy.db')\n",
    "\n",
    "# устанавливаем соединение с БД\n",
    "connection = engine.connect()\n",
    "\n",
    "# создаем объект для хранения таблиц в БД\n",
    "metadata = db.MetaData()\n",
    "\n",
    "# создание таблицы\n",
    "products = db.Table('products', metadata, \n",
    "                    db.Column('product_id', db.Integer, primary_key=True),\n",
    "                    db.Column('product_name', db.Text),\n",
    "                    db.Column('suplier_name', db.Text),\n",
    "                    db.Column('price_per_tonne', db.Integer))\n",
    "\n",
    "metadata.create_all(engine)\n",
    "\n",
    "# создаем объект данных\n",
    "insertion_query = products.insert().values([\n",
    "    {\"product_name\": \"Banana\", \"suplier_name\": \"United Bananas\", \"price_per_tonne\": 7000},\n",
    "    {\"product_name\": \"Avocado\", \"suplier_name\": \"United Avocados\", \"price_per_tonne\": 12000},\n",
    "    {\"product_name\": \"Tomatoes\", \"suplier_name\": \"United Tomatoes\", \"price_per_tonne\": 3100}\n",
    "])\n",
    "\n",
    "# выполняем вставку созданного объекта данных\n",
    "connection.execute(insertion_query)\n",
    "\n",
    "# создаем объект выборки\n",
    "select_all_query = db.select([products]) # заключаем имя таблицы в спсиок, так как ожидаем множественное знаение\n",
    "\n",
    "# выполняем операцию с помощью connection\n",
    "select_all_result = connection.execute(select_all_query)\n",
    "\n",
    "# вывод в консоль\n",
    "print(select_all_result.fetchall())"
   ]
  },
  {
   "cell_type": "markdown",
   "metadata": {},
   "source": [
    "Сделаем выборку с условием:"
   ]
  },
  {
   "cell_type": "code",
   "execution_count": 8,
   "metadata": {},
   "outputs": [
    {
     "name": "stdout",
     "output_type": "stream",
     "text": [
      "[(2, 'Avocado', 'United Avocados', 12000), (5, 'Avocado', 'United Avocados', 12000)]\n"
     ]
    }
   ],
   "source": [
    "select_price_query = db.select([products]).where(products.columns.price_per_tonne==12000)\n",
    "select_price_result = connection.execute(select_price_query)\n",
    "print(select_price_result.fetchall())"
   ]
  },
  {
   "cell_type": "markdown",
   "metadata": {},
   "source": [
    "Изменим значение БД:"
   ]
  },
  {
   "cell_type": "code",
   "execution_count": 9,
   "metadata": {},
   "outputs": [
    {
     "name": "stdout",
     "output_type": "stream",
     "text": [
      "[(1, 'Banana', 'United Fruits', 7000), (2, 'Avocado', 'United Avocados', 12000), (3, 'Tomatoes', 'United Tomatoes', 3100), (4, 'Banana', 'United Fruits', 7000), (5, 'Avocado', 'United Avocados', 12000), (6, 'Tomatoes', 'United Tomatoes', 3100)]\n"
     ]
    }
   ],
   "source": [
    "update_query = db.update(products).where(products.columns.suplier_name == \"United Bananas\").values(suplier_name = \"United Fruits\")\n",
    "connection.execute(update_query)\n",
    "\n",
    "select_all_query = db.select([products])\n",
    "select_all_result = connection.execute(select_all_query)\n",
    "print(select_all_result.fetchall())"
   ]
  },
  {
   "cell_type": "markdown",
   "metadata": {},
   "source": [
    "Удаление записи:"
   ]
  },
  {
   "cell_type": "code",
   "execution_count": 10,
   "metadata": {},
   "outputs": [
    {
     "name": "stdout",
     "output_type": "stream",
     "text": [
      "[(1, 'Banana', 'United Fruits', 7000), (2, 'Avocado', 'United Avocados', 12000), (4, 'Banana', 'United Fruits', 7000), (5, 'Avocado', 'United Avocados', 12000)]\n"
     ]
    }
   ],
   "source": [
    "delete_query = db.delete(products).where(products.columns.suplier_name == \"United Tomatoes\")\n",
    "connection.execute(delete_query)\n",
    "\n",
    "select_all_query = db.select([products])\n",
    "select_all_result = connection.execute(select_all_query)\n",
    "print(select_all_result.fetchall())"
   ]
  }
 ],
 "metadata": {
  "kernelspec": {
   "display_name": ".venv",
   "language": "python",
   "name": "python3"
  },
  "language_info": {
   "codemirror_mode": {
    "name": "ipython",
    "version": 3
   },
   "file_extension": ".py",
   "mimetype": "text/x-python",
   "name": "python",
   "nbconvert_exporter": "python",
   "pygments_lexer": "ipython3",
   "version": "3.11.0"
  },
  "orig_nbformat": 4
 },
 "nbformat": 4,
 "nbformat_minor": 2
}
