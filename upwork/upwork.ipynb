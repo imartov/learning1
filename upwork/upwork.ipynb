{
 "cells": [
  {
   "cell_type": "markdown",
   "metadata": {},
   "source": [
    "# UPWORK\n",
    "\n",
    "## Советы\n",
    "\n",
    "1. Сделать видеолвизитку\n",
    "2. Оформить плюс подписку\n",
    "3. Сделать проект консультации"
   ]
  }
 ],
 "metadata": {
  "language_info": {
   "name": "python"
  },
  "orig_nbformat": 4
 },
 "nbformat": 4,
 "nbformat_minor": 2
}
