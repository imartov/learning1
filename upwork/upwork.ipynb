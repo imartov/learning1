{
 "cells": [
  {
   "cell_type": "markdown",
   "metadata": {},
   "source": [
    "# UPWORK\n",
    "\n",
    "## Советы\n",
    "\n",
    "1. Выбрать одно узкое направление\n",
    "2. Не занижать цену и не завышать = должно быть что-то среднее\n",
    "3. Сделать видеолвизитку\n",
    "4. Везде указывать ключевые слова, в т.ч. профиль"
   ]
  }
 ],
 "metadata": {
  "language_info": {
   "name": "python"
  },
  "orig_nbformat": 4
 },
 "nbformat": 4,
 "nbformat_minor": 2
}
