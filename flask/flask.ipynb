{
 "cells": [
  {
   "cell_type": "markdown",
   "metadata": {},
   "source": [
    "# FLASK\n",
    "\n",
    "WSGI (Web Server Gateway Interface) - стандарт взаимодействия между Python-программой, выполняющейся на стороне сервера, и самим веб-сервером.\n",
    "\n",
    "В одном пакете может быть созданго несколько приложений.\n",
    "Например:"
   ]
  },
  {
   "cell_type": "code",
   "execution_count": null,
   "metadata": {},
   "outputs": [],
   "source": [
    "app1 = Flask(\"app1\")\n",
    "app2 = Flask(\"app2\")"
   ]
  },
  {
   "cell_type": "markdown",
   "metadata": {},
   "source": [
    "При разоработке на Flask также может применяться `session`, например, для авторизации текущего пользователя.\n",
    "\n",
    "Функция `url_for` позволяет генерировать url-адрес по имени функции обработчика.\n",
    "При этом функция `url_for` возвращает адрес, который записан в последнем декораторе.\n",
    "Пример:"
   ]
  },
  {
   "cell_type": "code",
   "execution_count": null,
   "metadata": {},
   "outputs": [],
   "source": [
    "@app.route(\"/index\")\n",
    "@app.route(\"/\")\n",
    "def index():\n",
    "    print(url_for(\"index\"))\n",
    "    return render_template(\"index.html\",\n",
    "                           title=\"Online Order\",\n",
    "                           menu=menu)"
   ]
  },
  {
   "cell_type": "markdown",
   "metadata": {},
   "source": [
    "В данном примере будет возвращен адрес - `/`.\n",
    "Когда срабатывает функция `url_for` создается контекст запроса, и функция `url_for` работает только в пределах этого контекста запроса.\n",
    "То есть если мы захотим вызвать функцию вне контекста запроса, как в нижнем примере, то у нас вернется ошибка:"
   ]
  },
  {
   "cell_type": "code",
   "execution_count": null,
   "metadata": {},
   "outputs": [],
   "source": [
    "print(url_for(\"index\")) # вызов функции вне контекста запроса\n",
    "\n",
    "@app.route(\"/index\")\n",
    "@app.route(\"/\")\n",
    "def index():\n",
    "    return render_template(\"index.html\",\n",
    "                           title=\"Online Order\",\n",
    "                           menu=menu)"
   ]
  },
  {
   "cell_type": "markdown",
   "metadata": {},
   "source": [
    "При этом контекст `Flask` позволяет искусственно создавать контекст запроса.\n",
    "Вот пример:"
   ]
  },
  {
   "cell_type": "code",
   "execution_count": null,
   "metadata": {},
   "outputs": [],
   "source": [
    "with app.test_request_context():\n",
    "    print(url_for(\"index\"))"
   ]
  },
  {
   "cell_type": "markdown",
   "metadata": {},
   "source": [
    "Также функция `url_for` будет корректно обрабатываться при использовании нескольких `wsgi` приложений.\n",
    "\n",
    "url-адреса в `@app.route(\"/\")` можно делать переменными / динамическими, используя следующий синтаксис:"
   ]
  },
  {
   "cell_type": "code",
   "execution_count": null,
   "metadata": {},
   "outputs": [],
   "source": [
    "@app.route(\"/url/<variable>\")"
   ]
  },
  {
   "cell_type": "markdown",
   "metadata": {},
   "source": [
    "Вот пример:"
   ]
  },
  {
   "cell_type": "code",
   "execution_count": null,
   "metadata": {},
   "outputs": [],
   "source": [
    "# profile page\n",
    "@app.route(\"/profile/<username>\")\n",
    "def profile():\n",
    "    print(username)\n",
    "    return f\"Пользователь {username}\""
   ]
  },
  {
   "cell_type": "markdown",
   "metadata": {},
   "source": [
    "В адресе url-адресе можно применять конвектор `path`:"
   ]
  },
  {
   "cell_type": "code",
   "execution_count": null,
   "metadata": {},
   "outputs": [],
   "source": [
    "@app.route(\"/profile/<path:username>\")"
   ]
  },
  {
   "cell_type": "markdown",
   "metadata": {},
   "source": [
    "Конвектор `path` говорит, что все, что будет записано после `profile` нужно поместить в переменную `username`\n",
    "\n",
    "Таже можно писать следующее конверторы:\n",
    "- `int` - только цифры\n",
    "- `float` - только вещественные числа\n",
    "- `path` - можно использовать любые символы url + символ слеша `/`\n",
    "\n",
    "конверторы можно комбинировать:"
   ]
  },
  {
   "cell_type": "code",
   "execution_count": null,
   "metadata": {},
   "outputs": [],
   "source": [
    "@app.route(\"/profile/<path:username>/<int:variableInt>\")\n",
    "def profile(username, variableInt):\n",
    "    return f\"Пользователь {username} {variableInt}\""
   ]
  },
  {
   "cell_type": "markdown",
   "metadata": {},
   "source": [
    "Передача тестового контекста запроса:"
   ]
  },
  {
   "cell_type": "code",
   "execution_count": null,
   "metadata": {},
   "outputs": [],
   "source": [
    "with app.test_request_context():\n",
    "    print(url_for(\"index\"))\n",
    "    print(url_for(\"basket\"))\n",
    "    print(url_for(\"profile\", username=\"alex\"))"
   ]
  },
  {
   "cell_type": "markdown",
   "metadata": {},
   "source": [
    "Функцию `url_for` также можно вызывать непосредственно в шаблоне.\n",
    "То есть функция корректно отработает и вернет запрашиваемый `url`-адрес.\n",
    "Вот пример синтаксиса:"
   ]
  },
  {
   "cell_type": "code",
   "execution_count": null,
   "metadata": {},
   "outputs": [],
   "source": [
    "url_for('static', filename='css/styles.css')"
   ]
  }
 ],
 "metadata": {
  "kernelspec": {
   "display_name": ".venv",
   "language": "python",
   "name": "python3"
  },
  "language_info": {
   "name": "python",
   "version": "3.11.0"
  },
  "orig_nbformat": 4
 },
 "nbformat": 4,
 "nbformat_minor": 2
}
